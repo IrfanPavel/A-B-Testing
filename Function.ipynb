{
  "nbformat": 4,
  "nbformat_minor": 0,
  "metadata": {
    "colab": {
      "provenance": [],
      "authorship_tag": "ABX9TyMsWqWZuKwZ9/PyMtdNMgtd",
      "include_colab_link": true
    },
    "kernelspec": {
      "name": "python3",
      "display_name": "Python 3"
    },
    "language_info": {
      "name": "python"
    }
  },
  "cells": [
    {
      "cell_type": "markdown",
      "metadata": {
        "id": "view-in-github",
        "colab_type": "text"
      },
      "source": [
        "<a href=\"https://colab.research.google.com/github/IrfanPavel/A-B-Testing/blob/main/Function.ipynb\" target=\"_parent\"><img src=\"https://colab.research.google.com/assets/colab-badge.svg\" alt=\"Open In Colab\"/></a>"
      ]
    },
    {
      "cell_type": "markdown",
      "source": [
        "Function: To reuse code"
      ],
      "metadata": {
        "id": "P-SlMVZpN04j"
      }
    },
    {
      "cell_type": "code",
      "source": [
        "a=int(input())\n",
        "b=int(input())\n",
        "print(a+b)\n",
        "print(a-b)\n",
        "print(a*b)\n",
        "\n",
        "print(a/b)"
      ],
      "metadata": {
        "id": "t47naguENQdt"
      },
      "execution_count": null,
      "outputs": []
    },
    {
      "cell_type": "markdown",
      "source": [
        "Creating Function"
      ],
      "metadata": {
        "id": "rhqoo_YkN5ps"
      }
    },
    {
      "cell_type": "code",
      "execution_count": null,
      "metadata": {
        "colab": {
          "base_uri": "https://localhost:8080/"
        },
        "id": "oxxz6gGsM0yP",
        "outputId": "319fbf85-dbf6-426f-b283-aefdb3958eb8"
      },
      "outputs": [
        {
          "output_type": "stream",
          "name": "stdout",
          "text": [
            "34\n",
            "23\n",
            "57 11 782 1.4782608695652173\n"
          ]
        }
      ],
      "source": [
        "def dom(a,b): #Parameters\n",
        "  print(a+b,a-b,a*b,a/b)\n",
        "\n",
        "a=int(input())\n",
        "b=int(input())\n",
        "dom(a,b) #Arguments"
      ]
    },
    {
      "cell_type": "code",
      "source": [
        "dom(56,34)"
      ],
      "metadata": {
        "colab": {
          "base_uri": "https://localhost:8080/"
        },
        "id": "tomBpGJoOqm4",
        "outputId": "4f86978f-5407-43fa-84e9-1094e5f6d264"
      },
      "execution_count": null,
      "outputs": [
        {
          "output_type": "stream",
          "name": "stdout",
          "text": [
            "90 22 1904 1.6470588235294117\n"
          ]
        }
      ]
    },
    {
      "cell_type": "markdown",
      "source": [
        "# **Function with return statement**"
      ],
      "metadata": {
        "id": "N1fcDMCdPA6J"
      }
    },
    {
      "cell_type": "code",
      "source": [
        "def birthday(name,age):\n",
        "  if name==\"Dom\" and age==29:\n",
        "    return \"Hello\"\n",
        "  else:\n",
        "    return \"Bye\"\n",
        "\n",
        "c=birthday(\"Dom\",29)"
      ],
      "metadata": {
        "id": "WWoFpwrMPE0p"
      },
      "execution_count": null,
      "outputs": []
    },
    {
      "cell_type": "code",
      "source": [
        "if c==\"Hello\":\n",
        "  print(\"I can go\")\n",
        "else:\n",
        "  print(\"I can't go\")"
      ],
      "metadata": {
        "colab": {
          "base_uri": "https://localhost:8080/"
        },
        "id": "kIUiZxpTPu1C",
        "outputId": "f7e2c69c-81d1-45cf-8cf8-c8311c3540f8"
      },
      "execution_count": null,
      "outputs": [
        {
          "output_type": "stream",
          "name": "stdout",
          "text": [
            "I can go\n"
          ]
        }
      ]
    },
    {
      "cell_type": "code",
      "source": [
        "defdefdefdef max1(x1,x2,x3):\n",
        "  retreturnurn max(x1,x2,x3)\n",
        "\n",
        "\n",
        "\n",
        "\n",
        "n1=int(input())\n",
        "n2=int(input())\n",
        "n3=int(input())\n",
        "\n",
        "c=max1(n1,n2,n3)\n",
        "print(c)"
      ],
      "metadata": {
        "colab": {
          "base_uri": "https://localhost:8080/"
        },
        "id": "iq3LCBD4QdEB",
        "outputId": "868da281-4329-4697-a95a-be8b6f981a6a"
      },
      "execution_count": null,
      "outputs": [
        {
          "output_type": "stream",
          "name": "stdout",
          "text": [
            "34\n",
            "56\n",
            "32\n",
            "56\n"
          ]
        }
      ]
    },
    {
      "cell_type": "code",
      "source": [
        "def clean(list):\n",
        "  even=[]\n",
        "  odd=[]\n",
        "  for i in list:\n",
        "    if i%2==0:\n",
        "      even.append(i)\n",
        "    else:\n",
        "      odd.append(i)\n",
        "\n",
        "  return even,odd\n",
        "\n",
        "\n",
        "\n",
        "\n",
        "list1=[34,5,32,456,34,23,23,57,232,46,123,78,90,34]\n",
        "\n",
        "clear=clean(list1)\n",
        "print(clear)"
      ],
      "metadata": {
        "id": "JQj9TdzxRgmx"
      },
      "execution_count": null,
      "outputs": []
    },
    {
      "cell_type": "code",
      "source": [
        "def palindrome(word):\n",
        "\n",
        "  if word[::-1].casefold()==word.casefold():\n",
        "    return \"yes\"\n",
        "\n",
        "\n",
        "word=input(\"Enter a word:\")\n",
        "\n",
        "if palindrome(word)==\"yes\":\n",
        "  print(\"This is a palindrome word\")\n",
        "else:\n",
        "  print(\"This is not a palindrom word\")"
      ],
      "metadata": {
        "colab": {
          "base_uri": "https://localhost:8080/"
        },
        "id": "vui_Egd3S3IX",
        "outputId": "c5e636df-7356-4bd8-eace-756dcde08d31"
      },
      "execution_count": null,
      "outputs": [
        {
          "output_type": "stream",
          "name": "stdout",
          "text": [
            "Enter a word:MrOwlatemymetalworm\n",
            "This is a palindrome word\n"
          ]
        }
      ]
    },
    {
      "cell_type": "code",
      "source": [
        "def palindrome_sentence(sentence):\n",
        "\n",
        "  word=\"\"\n",
        "  for i in sentence:\n",
        "    if i.isalpha():\n",
        "      word=word+i\n",
        "  # print(word)\n",
        "\n",
        "  if word[::-1].casefold()==word.casefold():\n",
        "    return \"yes\"\n",
        "\n",
        "\n",
        "sentence=input(\"Enter a word:\")\n",
        "# palindrome_sentence(sentence)\n",
        "if palindrome_sentence(sentence)==\"yes\":\n",
        "  print(\"This is a palindrome sentence\")\n",
        "else:\n",
        "  print(\"This is not a palindrom sentence\")"
      ],
      "metadata": {
        "colab": {
          "base_uri": "https://localhost:8080/"
        },
        "id": "5yILVck_UVQa",
        "outputId": "4f048b97-91d5-490f-910f-f9fbd935e244"
      },
      "execution_count": null,
      "outputs": [
        {
          "output_type": "stream",
          "name": "stdout",
          "text": [
            "Enter a word:\"Mr. Owl ate my metal worm\"\n",
            "This is a palindrome sentence\n"
          ]
        }
      ]
    },
    {
      "cell_type": "markdown",
      "source": [
        "Functions calling Functions"
      ],
      "metadata": {
        "id": "nGavWDjuX8si"
      }
    },
    {
      "cell_type": "code",
      "source": [
        "def palindrome_sentence(sentence):\n",
        "\n",
        "  word=\"\"\n",
        "  for i in sentence:\n",
        "    if i.isalpha():\n",
        "      word=word+i\n",
        "  # print(word)\n",
        "\n",
        "  return palindrome(word) #Function is calling another function\n",
        "\n",
        "\n",
        "sentence=input(\"Enter a word:\")\n",
        "# palindrome_sentence(sentence)\n",
        "if palindrome_sentence(sentence)==\"yes\":\n",
        "  print(\"This is a palindrome sentence\")\n",
        "else:\n",
        "  print(\"This is not a palindrom sentence\")"
      ],
      "metadata": {
        "colab": {
          "base_uri": "https://localhost:8080/"
        },
        "id": "7nT8v-tAX_ZC",
        "outputId": "366b3d61-2172-4bbd-af93-40f3b592228b"
      },
      "execution_count": null,
      "outputs": [
        {
          "output_type": "stream",
          "name": "stdout",
          "text": [
            "Enter a word:Was it a car or a cat I saw?\n",
            "This is a palindrome sentence\n"
          ]
        }
      ]
    },
    {
      "cell_type": "markdown",
      "source": [
        "# Using *args to pass the variable length arguments to the function"
      ],
      "metadata": {
        "id": "eJJHV1yNKfKB"
      }
    },
    {
      "cell_type": "code",
      "source": [
        "def adder(*num):\n",
        "    sum = 0\n",
        "\n",
        "    for n in num:\n",
        "        sum = sum + n\n",
        "\n",
        "    print(\"Sum:\",sum)\n",
        "\n",
        "adder(3,5)\n",
        "adder(4,5,6,7)\n",
        "adder(1,2,3,5,6)"
      ],
      "metadata": {
        "colab": {
          "base_uri": "https://localhost:8080/"
        },
        "id": "U4cTkuZvKgQ5",
        "outputId": "5ac028d9-be85-498a-9608-4c4c60f2ab72"
      },
      "execution_count": null,
      "outputs": [
        {
          "output_type": "stream",
          "name": "stdout",
          "text": [
            "Sum: 8\n",
            "Sum: 22\n",
            "Sum: 17\n"
          ]
        }
      ]
    },
    {
      "cell_type": "markdown",
      "source": [
        "# Using **kwargs to pass the variable keyword arguments to the function"
      ],
      "metadata": {
        "id": "O5h9AJKYKqDD"
      }
    },
    {
      "cell_type": "code",
      "source": [
        "def intro(**data):\n",
        "    print(\"\\nData type of argument:\",type(data))\n",
        "\n",
        "    for key, value in data.items():\n",
        "        print(\"{} is {}\".format(key,value))\n",
        "\n",
        "intro(Firstname=\"Sita\", Lastname=\"Sharma\", Age=22, Phone=1234567890)\n",
        "intro(Firstname=\"John\", Lastname=\"Wood\", Email=\"johnwood@nomail.com\", Country=\"Wakanda\", Age=25, Phone=9876543210)"
      ],
      "metadata": {
        "colab": {
          "base_uri": "https://localhost:8080/"
        },
        "id": "PqmBR6WDKw5C",
        "outputId": "89192d31-899c-488d-c1d9-fd959402e0ac"
      },
      "execution_count": null,
      "outputs": [
        {
          "output_type": "stream",
          "name": "stdout",
          "text": [
            "\n",
            "Data type of argument: <class 'dict'>\n",
            "Firstname is Sita\n",
            "Lastname is Sharma\n",
            "Age is 22\n",
            "Phone is 1234567890\n",
            "\n",
            "Data type of argument: <class 'dict'>\n",
            "Firstname is John\n",
            "Lastname is Wood\n",
            "Email is johnwood@nomail.com\n",
            "Country is Wakanda\n",
            "Age is 25\n",
            "Phone is 9876543210\n"
          ]
        }
      ]
    },
    {
      "cell_type": "markdown",
      "source": [
        "Fibonacci"
      ],
      "metadata": {
        "id": "ljCCKa9pgzte"
      }
    },
    {
      "cell_type": "code",
      "source": [
        "def fib(n):\n",
        "  if 0<=n<=1:\n",
        "    return n\n",
        "\n",
        "  n_2=0\n",
        "  n_1=1\n",
        "\n",
        "  for i in range(n-1):\n",
        "    result=n_1+n_2\n",
        "    n_2=n_1\n",
        "    n_1=result\n",
        "\n",
        "  return result\n",
        "\n",
        "\n",
        "\n",
        "\n",
        "\n",
        "\n",
        "\n",
        "\n",
        "\n",
        "\n",
        "\n",
        "for i in range(100):\n",
        "  print(\"{}:{}\".format(i,fib(i)))"
      ],
      "metadata": {
        "id": "zJZseGjtg6vO"
      },
      "execution_count": null,
      "outputs": []
    },
    {
      "cell_type": "markdown",
      "source": [
        "Factorial:"
      ],
      "metadata": {
        "id": "jXQfBVlmh8h-"
      }
    },
    {
      "cell_type": "code",
      "source": [
        "def factorial(n):\n",
        "  if 0<=n<=1:\n",
        "    return n\n",
        "\n",
        "  else:\n",
        "    return n*factorial(n-1)\n",
        "\n",
        "\n",
        "n=int(input())\n",
        "\n",
        "g=factorial(n)\n",
        "print(g)"
      ],
      "metadata": {
        "colab": {
          "base_uri": "https://localhost:8080/"
        },
        "id": "PLKQPwpqh-T3",
        "outputId": "0280b05d-f2c4-4412-f2a8-f1dfac3ad18d"
      },
      "execution_count": null,
      "outputs": [
        {
          "output_type": "stream",
          "name": "stdout",
          "text": [
            "4\n",
            "24\n"
          ]
        }
      ]
    },
    {
      "cell_type": "markdown",
      "source": [],
      "metadata": {
        "id": "y3PPrMRAh8cF"
      }
    },
    {
      "cell_type": "code",
      "source": [],
      "metadata": {
        "id": "Ag9SaaP_h8BW"
      },
      "execution_count": null,
      "outputs": []
    }
  ]
}